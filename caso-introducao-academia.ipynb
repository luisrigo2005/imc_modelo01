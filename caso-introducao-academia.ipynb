{
 "cells": [
  {
   "cell_type": "code",
   "execution_count": 13,
   "id": "10e1a7b6",
   "metadata": {},
   "outputs": [
    {
     "name": "stdout",
     "output_type": "stream",
     "text": [
      "Requirement already satisfied: fpdf in c:\\users\\luisr\\appdata\\roaming\\python\\python311\\site-packages (1.7.2)\n",
      "Note: you may need to restart the kernel to use updated packages.\n"
     ]
    }
   ],
   "source": [
    "pip install fpdf --upgrade"
   ]
  },
  {
   "cell_type": "code",
   "execution_count": 16,
   "id": "7484adf4",
   "metadata": {},
   "outputs": [
    {
     "name": "stdout",
     "output_type": "stream",
     "text": [
      "Digite o nome do aluno: Luis\n",
      "Digite a idade do aluno: 47\n",
      "Digite o peso do aluno em kg: 80\n",
      "Informe a altura do aluno em metros: 1.73\n",
      "PDF gerado com sucesso: Luis_relatorio.pdf\n"
     ]
    }
   ],
   "source": [
    "from fpdf import FPDF\n",
    "from datetime import datetime\n",
    "\n",
    "def calcular_imc(peso, altura):\n",
    "    return peso / (altura ** 2)\n",
    "\n",
    "def classificar_imc(imc):\n",
    "    if imc > 25:\n",
    "        return \"SOBREPESO\"\n",
    "    else:\n",
    "        return \"PESO IDEAL\"\n",
    "\n",
    "def criar_pdf(nome, idade, peso):\n",
    "    # Calcular IMC\n",
    "    altura = float(input(\"Informe a altura do aluno em metros: \"))\n",
    "    imc = calcular_imc(peso, altura)\n",
    "    classificacao = classificar_imc(imc)\n",
    "\n",
    "    # Criar instância do FPDF\n",
    "    pdf = FPDF()\n",
    "\n",
    "    # Adicionar uma página ao PDF\n",
    "    pdf.add_page()\n",
    "\n",
    "    # Adicionar imagem como fundo\n",
    "    pdf.image(\"ficha.png\", x=0, y=0, w=210)\n",
    "\n",
    "    # Definir fonte e tamanho\n",
    "    pdf.set_font(\"Arial\", \"B\", 16)\n",
    "\n",
    "    # Adicionar título à página\n",
    "    pdf.cell(200, 10, txt=\"Relatório de Saúde do Aluno\", ln=True, align='C')\n",
    "\n",
    "    # Adicionar informações do aluno\n",
    "    pdf.set_font(\"Arial\", \"\", 12)\n",
    "    pdf.ln(10)\n",
    "    pdf.cell(200, 10, txt=f\"Nome do Aluno: {nome}\", ln=True)\n",
    "    pdf.cell(200, 10, txt=f\"Idade: {idade} anos\", ln=True)\n",
    "    pdf.cell(200, 10, txt=f\"Peso: {peso} kg\", ln=True)\n",
    "    pdf.cell(200, 10, txt=f\"Altura: {altura} metros\", ln=True)\n",
    "    pdf.cell(200, 10, txt=f\"IMC: {imc:.2f}\", ln=True)\n",
    "    pdf.cell(200, 10, txt=f\"Classificação: {classificacao}\", ln=True)\n",
    "\n",
    "    # Adicionar data e hora de geração\n",
    "    data_hora = datetime.now().strftime(\"%d/%m/%Y %H:%M:%S\")\n",
    "    pdf.cell(200, 10, txt=f\"Gerado em: {data_hora}\", ln=True)\n",
    "\n",
    "    # Salvar o PDF com o nome do aluno\n",
    "    pdf_filename = f\"{nome}_relatorio.pdf\"\n",
    "    pdf.output(pdf_filename)\n",
    "\n",
    "    print(f\"PDF gerado com sucesso: {pdf_filename}\")\n",
    "\n",
    "# Solicitar informações do aluno\n",
    "nome_aluno = input(\"Digite o nome do aluno: \")\n",
    "idade_aluno = int(input(\"Digite a idade do aluno: \"))\n",
    "peso_aluno = float(input(\"Digite o peso do aluno em kg: \"))\n",
    "\n",
    "# Criar PDF\n",
    "criar_pdf(nome_aluno, idade_aluno, peso_aluno)\n"
   ]
  },
  {
   "cell_type": "code",
   "execution_count": null,
   "id": "22013521",
   "metadata": {},
   "outputs": [],
   "source": []
  }
 ],
 "metadata": {
  "kernelspec": {
   "display_name": "Python 3 (ipykernel)",
   "language": "python",
   "name": "python3"
  },
  "language_info": {
   "codemirror_mode": {
    "name": "ipython",
    "version": 3
   },
   "file_extension": ".py",
   "mimetype": "text/x-python",
   "name": "python",
   "nbconvert_exporter": "python",
   "pygments_lexer": "ipython3",
   "version": "3.11.5"
  }
 },
 "nbformat": 4,
 "nbformat_minor": 5
}
